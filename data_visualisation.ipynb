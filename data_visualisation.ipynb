{
 "cells": [
  {
   "cell_type": "markdown",
   "metadata": {},
   "source": [
    "# Data Visualisation  \n",
    "\n",
    "Short notebook with example code for how to connect to and visualise some data"
   ]
  },
  {
   "cell_type": "markdown",
   "metadata": {},
   "source": [
    "# Import packages"
   ]
  },
  {
   "cell_type": "code",
   "execution_count": 1,
   "metadata": {},
   "outputs": [],
   "source": [
    "# Import packages\n",
    "import numpy as np\n",
    "import pandas as pd\n",
    "from sqlalchemy import create_engine\n",
    "from typing import List, Tuple"
   ]
  },
  {
   "cell_type": "markdown",
   "metadata": {},
   "source": [
    "## Create database connection"
   ]
  },
  {
   "cell_type": "code",
   "execution_count": null,
   "metadata": {},
   "outputs": [],
   "source": [
    "# Create a list of table names to load from the database\n",
    "tables = [tracks, albums, artists, genres]\n",
    "\n",
    "# Create an engine to connect to the database\n",
    "engine = create_engine('sqlite:///chinook/chinook.db')\n",
    "\n",
    "# Load tables with pandas\n",
    "def load_tables(table_name: str, con: object) -> None:\n",
    "    \"\"\"Returns a Pandas DataFrame when passed the name of SQLite table and a connection object\n",
    "    \n",
    "    Args:\n",
    "    table_name: name of table in SQLite database\n",
    "    con: sqlalchemy connection object\n",
    "    \n",
    "    Returns:\n",
    "    A Pandas DataFrame for each table name in the list\n",
    "    \"\"\"\n",
    "    table = pd.read_sql(f\"SELECT * FROM {table_name};\", con)\n",
    "    return table\n",
    "\n",
    "with engine.connect() as con:\n",
    "    for table in tables:\n",
    "        table = load_tables(table, con)\n",
    "        output = table.to_csv(f'./data/{table}.csv', index=False)\n",
    "\n",
    "\n",
    "# Call the load_tables function on each table"
   ]
  },
  {
   "cell_type": "markdown",
   "metadata": {},
   "source": [
    "## Inspect some data"
   ]
  },
  {
   "cell_type": "code",
   "execution_count": null,
   "metadata": {},
   "outputs": [],
   "source": [
    "# Get dataframes info\n",
    "for table in tables:\n",
    "    print(f\"{table}\\ntable.info())\n",
    "    print(table.head())\n",
    "    print(table.describe())\n",
    "    print(table.columns)\n",
    "    print(table.shape)\n",
    "    print(table.dtypes)\n",
    "    print(table.isnull().sum())\n",
    "    print(table.nunique())"
   ]
  },
  {
   "cell_type": "markdown",
   "metadata": {},
   "source": [
    "## Join some tables"
   ]
  },
  {
   "cell_type": "markdown",
   "metadata": {},
   "source": [
    "## Visualise some data"
   ]
  }
 ],
 "metadata": {
  "kernelspec": {
   "display_name": "Python 3",
   "language": "python",
   "name": "python3"
  },
  "language_info": {
   "codemirror_mode": {
    "name": "ipython",
    "version": 3
   },
   "file_extension": ".py",
   "mimetype": "text/x-python",
   "name": "python",
   "nbconvert_exporter": "python",
   "pygments_lexer": "ipython3",
   "version": "3.10.12"
  }
 },
 "nbformat": 4,
 "nbformat_minor": 2
}
